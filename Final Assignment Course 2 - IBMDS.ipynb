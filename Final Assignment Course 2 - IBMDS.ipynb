{
    "cells": [
        {
            "metadata": {},
            "cell_type": "markdown",
            "source": "# My Jupyter Notebook on IBM Watson Studio"
        },
        {
            "metadata": {},
            "cell_type": "markdown",
            "source": "### Trung Tran"
        },
        {
            "metadata": {},
            "cell_type": "markdown",
            "source": "Computer Science Student"
        },
        {
            "metadata": {
                "collapsed": true
            },
            "cell_type": "markdown",
            "source": "<i> I am interested in data science because it is sexier than my ex"
        },
        {
            "metadata": {},
            "cell_type": "markdown",
            "source": "## This code will calculate the factorial of n"
        },
        {
            "metadata": {},
            "cell_type": "code",
            "source": "def f(x):\n    if x < 2:\n        return 1\n    else:\n        return x * f(x-1)",
            "execution_count": 4,
            "outputs": []
        },
        {
            "metadata": {},
            "cell_type": "code",
            "source": "f(5)",
            "execution_count": 6,
            "outputs": [
                {
                    "output_type": "execute_result",
                    "execution_count": 6,
                    "data": {
                        "text/plain": "120"
                    },
                    "metadata": {}
                }
            ]
        },
        {
            "metadata": {},
            "cell_type": "markdown",
            "source": "* This is a bullet point"
        },
        {
            "metadata": {},
            "cell_type": "markdown",
            "source": "Horizontal Rule"
        },
        {
            "metadata": {},
            "cell_type": "markdown",
            "source": "___"
        },
        {
            "metadata": {},
            "cell_type": "markdown",
            "source": "### Stay home with <a> youtube.com"
        },
        {
            "metadata": {},
            "cell_type": "markdown",
            "source": "                                                     My JPese Idol ~~Not your~~"
        },
        {
            "metadata": {},
            "cell_type": "markdown",
            "source": "![My JPese Idol](https://gamek.mediacdn.vn/thumb_w/640/133514250583805952/2020/2/3/photo-1-15807152714491788209393.jpg)"
        },
        {
            "metadata": {},
            "cell_type": "code",
            "source": "",
            "execution_count": null,
            "outputs": []
        }
    ],
    "metadata": {
        "kernelspec": {
            "name": "python3",
            "display_name": "Python 3.6",
            "language": "python"
        },
        "language_info": {
            "name": "python",
            "version": "3.6.9",
            "mimetype": "text/x-python",
            "codemirror_mode": {
                "name": "ipython",
                "version": 3
            },
            "pygments_lexer": "ipython3",
            "nbconvert_exporter": "python",
            "file_extension": ".py"
        }
    },
    "nbformat": 4,
    "nbformat_minor": 1
}