{
    "cells": [
        {
            "cell_type": "markdown",
            "metadata": {},
            "source": "# My Jupyter Notebook on IBM Watson Studio"
        },
        {
            "cell_type": "markdown",
            "metadata": {},
            "source": "### Trung Tran"
        },
        {
            "cell_type": "markdown",
            "metadata": {},
            "source": "Computer Science Student"
        },
        {
            "cell_type": "markdown",
            "metadata": {
                "collapsed": true
            },
            "source": "<i> I am interested in data science because it is sexier than my ex"
        },
        {
            "cell_type": "markdown",
            "metadata": {},
            "source": "## This code will calculate the factorial of n"
        },
        {
            "cell_type": "code",
            "execution_count": 4,
            "metadata": {},
            "outputs": [],
            "source": "def f(x):\n    if x < 2:\n        return 1\n    else:\n        return x * f(x-1)"
        },
        {
            "cell_type": "code",
            "execution_count": 6,
            "metadata": {},
            "outputs": [
                {
                    "data": {
                        "text/plain": "120"
                    },
                    "execution_count": 6,
                    "metadata": {},
                    "output_type": "execute_result"
                }
            ],
            "source": "f(5)"
        },
        {
            "cell_type": "markdown",
            "metadata": {},
            "source": "* This is a bullet point"
        },
        {
            "cell_type": "markdown",
            "metadata": {},
            "source": "Horizontal Rule"
        },
        {
            "cell_type": "markdown",
            "metadata": {},
            "source": "___"
        },
        {
            "cell_type": "markdown",
            "metadata": {},
            "source": "### Stay home with <a> youtube.com"
        },
        {
            "cell_type": "markdown",
            "metadata": {},
            "source": "My JP Idol <s>Not your"
        },
        {
            "cell_type": "markdown",
            "metadata": {},
            "source": " <center> My JP Idol <s>Not your</s> and i love her"
        },
        {
            "cell_type": "markdown",
            "metadata": {},
            "source": "![My JPese Idol](https://gamek.mediacdn.vn/thumb_w/640/133514250583805952/2020/2/3/photo-1-15807152714491788209393.jpg)"
        },
        {
            "cell_type": "code",
            "execution_count": null,
            "metadata": {},
            "outputs": [],
            "source": ""
        }
    ],
    "metadata": {
        "kernelspec": {
            "display_name": "Python 3.6",
            "language": "python",
            "name": "python3"
        },
        "language_info": {
            "codemirror_mode": {
                "name": "ipython",
                "version": 3
            },
            "file_extension": ".py",
            "mimetype": "text/x-python",
            "name": "python",
            "nbconvert_exporter": "python",
            "pygments_lexer": "ipython3",
            "version": "3.6.9"
        }
    },
    "nbformat": 4,
    "nbformat_minor": 1
}